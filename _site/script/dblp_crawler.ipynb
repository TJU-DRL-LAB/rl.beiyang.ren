{
 "cells": [
  {
   "cell_type": "code",
   "execution_count": 1,
   "id": "0aacf01d",
   "metadata": {},
   "outputs": [],
   "source": [
    "import requests    \n",
    "import re\n",
    "import json\n",
    "from lxml import html\n",
    "import numpy as np\n",
    "import pandas as pd"
   ]
  },
  {
   "cell_type": "code",
   "execution_count": 2,
   "id": "4e2726cd",
   "metadata": {},
   "outputs": [],
   "source": [
    "base_url = 'https://dblp.org/pid/21/7664.html'\n",
    "headers = {'User-Agent': 'Mozilla/5.0 (Windows NT 10.0; Win64; x64) AppleWebKit/537.36 (KHTML, like Gecko) Chrome/115.0.0.0 Safari/537.36'}"
   ]
  },
  {
   "cell_type": "code",
   "execution_count": 3,
   "id": "7b8a7f5a",
   "metadata": {},
   "outputs": [],
   "source": [
    "requests.adapters.DEFAULT_RETRIES = 5"
   ]
  },
  {
   "cell_type": "code",
   "execution_count": 4,
   "id": "8aab76cf",
   "metadata": {},
   "outputs": [],
   "source": [
    "s = requests.session()\n",
    "s.keep_alive = False"
   ]
  },
  {
   "cell_type": "code",
   "execution_count": 25,
   "id": "21b1c88c",
   "metadata": {},
   "outputs": [
    {
     "name": "stderr",
     "output_type": "stream",
     "text": [
      "D:\\Tools\\Anaconda3\\lib\\site-packages\\urllib3\\connectionpool.py:1045: InsecureRequestWarning: Unverified HTTPS request is being made to host 'dblp.org'. Adding certificate verification is strongly advised. See: https://urllib3.readthedocs.io/en/1.26.x/advanced-usage.html#ssl-warnings\n",
      "  warnings.warn(\n"
     ]
    }
   ],
   "source": [
    "response = requests.get(base_url, verify=False)\n",
    "data = response.text"
   ]
  },
  {
   "cell_type": "code",
   "execution_count": 26,
   "id": "b18000d7",
   "metadata": {},
   "outputs": [],
   "source": [
    "tree=html.fromstring(data) "
   ]
  },
  {
   "cell_type": "markdown",
   "id": "ef0421ca",
   "metadata": {},
   "source": [
    "以下为数据获取操作"
   ]
  },
  {
   "cell_type": "code",
   "execution_count": 27,
   "id": "47ba3bc4",
   "metadata": {},
   "outputs": [],
   "source": [
    "paper_type= np.array(tree.xpath('//div[@class=\"nr\"]/text()')) #获取需要的数据\n",
    "paper_box = np.array(tree.xpath('//div[@class=\"box\"]'))"
   ]
  },
  {
   "cell_type": "code",
   "execution_count": 29,
   "id": "152b9844",
   "metadata": {},
   "outputs": [
    {
     "data": {
      "text/plain": [
       "326"
      ]
     },
     "execution_count": 29,
     "metadata": {},
     "output_type": "execute_result"
    }
   ],
   "source": [
    "len(paper_type) # 获取的文章总数"
   ]
  },
  {
   "cell_type": "code",
   "execution_count": 30,
   "id": "6c3bbf7b",
   "metadata": {},
   "outputs": [],
   "source": [
    "# 获取满足条件的项idx\n",
    "index = []\n",
    "for idx,pt in enumerate(paper_type):\n",
    "    if 'j' in pt or 'c' in pt:\n",
    "        index.append(idx)    "
   ]
  },
  {
   "cell_type": "code",
   "execution_count": 86,
   "id": "fdf516a1",
   "metadata": {},
   "outputs": [
    {
     "data": {
      "text/plain": [
       "211"
      ]
     },
     "execution_count": 86,
     "metadata": {},
     "output_type": "execute_result"
    }
   ],
   "source": [
    "len(index)"
   ]
  },
  {
   "cell_type": "code",
   "execution_count": 94,
   "id": "f4e89a90",
   "metadata": {},
   "outputs": [],
   "source": [
    "paper_title = np.array(tree.xpath('//cite[@class=\"data tts-content\"]/span[@class=\"title\"and@itemprop=\"name\"]/text()'))\n",
    "paper_authors = np.array(tree.xpath('//li//cite[@class=\"data tts-content\"]//span[@itemprop=\"author\"][position()<2]//span/text()'))\n",
    "paper_year = np.array(tree.xpath('//cite[@class=\"data tts-content\"]//span[@itemprop=\"datePublished\"]/text()'))\n",
    "paper_conference = np.array(tree.xpath('//cite[@class=\"data tts-content\"]//a//span[@itemprop=\"isPartOf\"]/span[@itemprop=\"name\"]/text()'))\n",
    "paper_url = np.array(tree.xpath('//nav[@class=\"publ\"]//ul//li[@class=\"drop-down\"][1]//div[@class=\"head\"]/a/@href'))"
   ]
  },
  {
   "cell_type": "code",
   "execution_count": 95,
   "id": "c3f983bc",
   "metadata": {
    "scrolled": true
   },
   "outputs": [
    {
     "name": "stdout",
     "output_type": "stream",
     "text": [
      "[327, 326, 326, 325, 326]\n"
     ]
    }
   ],
   "source": [
    "print([len(paper_title), len(paper_authors), len(paper_year), len(paper_conference), len(paper_url)])"
   ]
  },
  {
   "cell_type": "markdown",
   "id": "7c90ed77",
   "metadata": {},
   "source": [
    "（1）paper_conference少一年因为b1没有期刊"
   ]
  },
  {
   "cell_type": "code",
   "execution_count": 96,
   "id": "7b42da25",
   "metadata": {},
   "outputs": [],
   "source": [
    "paper_conference = np.insert(paper_conference,-16, 0)"
   ]
  },
  {
   "cell_type": "code",
   "execution_count": 97,
   "id": "0b86ed71",
   "metadata": {},
   "outputs": [
    {
     "name": "stdout",
     "output_type": "stream",
     "text": [
      "[327, 326, 326, 326, 326]\n"
     ]
    }
   ],
   "source": [
    "print([len(paper_title), len(paper_authors), len(paper_year), len(paper_conference), len(paper_url)])"
   ]
  },
  {
   "cell_type": "markdown",
   "id": "ff0664c6",
   "metadata": {},
   "source": [
    "(2)ERL-Re:..... 奇怪的title分成了两个"
   ]
  },
  {
   "cell_type": "code",
   "execution_count": 98,
   "id": "691549b4",
   "metadata": {},
   "outputs": [],
   "source": [
    "for idx,name in enumerate(paper_title):\n",
    "    if name == \"ERL-Re\":\n",
    "        paper_title[idx] += paper_title[idx+1]\n",
    "        paper_title = np.delete(paper_title, idx+1)\n",
    "        break"
   ]
  },
  {
   "cell_type": "code",
   "execution_count": 99,
   "id": "c3da073b",
   "metadata": {},
   "outputs": [
    {
     "name": "stdout",
     "output_type": "stream",
     "text": [
      "[326, 326, 326, 326, 326]\n"
     ]
    }
   ],
   "source": [
    "print([len(paper_title), len(paper_authors), len(paper_year), len(paper_conference), len(paper_url)])"
   ]
  },
  {
   "cell_type": "code",
   "execution_count": 101,
   "id": "009d26d9",
   "metadata": {},
   "outputs": [],
   "source": [
    "# 获取数据\n",
    "paper_title = paper_title[index]\n",
    "paper_year = paper_year[index]\n",
    "paper_conference = paper_conference[index]\n",
    "paper_url = paper_url[index]\n",
    "paper_authors = paper_authors[index]"
   ]
  },
  {
   "cell_type": "code",
   "execution_count": 102,
   "id": "5d3cf347",
   "metadata": {},
   "outputs": [],
   "source": [
    "data_frame = np.array([paper_year, paper_title, paper_conference, paper_authors, paper_url]).T"
   ]
  },
  {
   "cell_type": "code",
   "execution_count": 103,
   "id": "aedbfb22",
   "metadata": {},
   "outputs": [
    {
     "name": "stdout",
     "output_type": "stream",
     "text": [
      "[211, 211, 211, 211, 211, 211]\n"
     ]
    }
   ],
   "source": [
    "print([len(paper_title), len(paper_authors), len(paper_year), len(paper_conference), len(paper_authors), len(paper_url)])"
   ]
  },
  {
   "cell_type": "markdown",
   "id": "a5bf63a0",
   "metadata": {},
   "source": [
    "全部作者再另外一个板块实现，此代码的全部作者为文章的第一作者"
   ]
  },
  {
   "cell_type": "code",
   "execution_count": 104,
   "id": "a3254f00",
   "metadata": {},
   "outputs": [],
   "source": [
    "column_names = [\"年份\", \"论文名\", \"会议简称\", \"全部作者\", \"发表链接\"]\n",
    "data_df = pd.DataFrame(data_frame, columns=column_names)"
   ]
  },
  {
   "cell_type": "code",
   "execution_count": 105,
   "id": "1ad474a7",
   "metadata": {},
   "outputs": [
    {
     "data": {
      "text/html": [
       "<div>\n",
       "<style scoped>\n",
       "    .dataframe tbody tr th:only-of-type {\n",
       "        vertical-align: middle;\n",
       "    }\n",
       "\n",
       "    .dataframe tbody tr th {\n",
       "        vertical-align: top;\n",
       "    }\n",
       "\n",
       "    .dataframe thead th {\n",
       "        text-align: right;\n",
       "    }\n",
       "</style>\n",
       "<table border=\"1\" class=\"dataframe\">\n",
       "  <thead>\n",
       "    <tr style=\"text-align: right;\">\n",
       "      <th></th>\n",
       "      <th>年份</th>\n",
       "      <th>论文名</th>\n",
       "      <th>会议简称</th>\n",
       "      <th>全部作者</th>\n",
       "      <th>发表链接</th>\n",
       "    </tr>\n",
       "  </thead>\n",
       "  <tbody>\n",
       "    <tr>\n",
       "      <th>0</th>\n",
       "      <td>2023</td>\n",
       "      <td>Accelerating deep reinforcement learning via k...</td>\n",
       "      <td>Auton. Agents Multi Agent Syst.</td>\n",
       "      <td>Yuanqiang Yu</td>\n",
       "      <td>https://doi.org/10.1007/s10458-023-09600-1</td>\n",
       "    </tr>\n",
       "    <tr>\n",
       "      <th>1</th>\n",
       "      <td>2023</td>\n",
       "      <td>A benchmark for automatic medical consultation...</td>\n",
       "      <td>Bioinform.</td>\n",
       "      <td>Wei Chen</td>\n",
       "      <td>https://doi.org/10.1093/bioinformatics/btac817</td>\n",
       "    </tr>\n",
       "    <tr>\n",
       "      <th>2</th>\n",
       "      <td>2023</td>\n",
       "      <td>A Unified Framework for Layout Pattern Analysi...</td>\n",
       "      <td>IEEE Trans. Comput. Aided Des. Integr. Circuit...</td>\n",
       "      <td>Ran Chen</td>\n",
       "      <td>https://doi.org/10.1109/TCAD.2022.3192363</td>\n",
       "    </tr>\n",
       "    <tr>\n",
       "      <th>3</th>\n",
       "      <td>2023</td>\n",
       "      <td>Contrastive-ACE: Domain Generalization Through...</td>\n",
       "      <td>IEEE Trans. Image Process.</td>\n",
       "      <td>Yunqi Wang</td>\n",
       "      <td>https://doi.org/10.1109/TIP.2022.3227457</td>\n",
       "    </tr>\n",
       "    <tr>\n",
       "      <th>4</th>\n",
       "      <td>2023</td>\n",
       "      <td>Structure Aware Incremental Learning with Pers...</td>\n",
       "      <td>AAAI</td>\n",
       "      <td>Yuening Wang</td>\n",
       "      <td>https://ojs.aaai.org/index.php/AAAI/article/vi...</td>\n",
       "    </tr>\n",
       "    <tr>\n",
       "      <th>...</th>\n",
       "      <td>...</td>\n",
       "      <td>...</td>\n",
       "      <td>...</td>\n",
       "      <td>...</td>\n",
       "      <td>...</td>\n",
       "    </tr>\n",
       "    <tr>\n",
       "      <th>206</th>\n",
       "      <td>2012</td>\n",
       "      <td>Maintaining cooperation in homogeneous multi-a...</td>\n",
       "      <td>SMC</td>\n",
       "      <td>Jianye Hao</td>\n",
       "      <td>https://doi.org/10.1109/ICSMC.2012.6377718</td>\n",
       "    </tr>\n",
       "    <tr>\n",
       "      <th>207</th>\n",
       "      <td>2011</td>\n",
       "      <td>Learning to Achieve Social Rationality Using T...</td>\n",
       "      <td>ICTAI</td>\n",
       "      <td>Jianye Hao</td>\n",
       "      <td>https://doi.org/10.1109/ICTAI.2011.31</td>\n",
       "    </tr>\n",
       "    <tr>\n",
       "      <th>208</th>\n",
       "      <td>2010</td>\n",
       "      <td>Strategy and Fairness in Repeated Two-agent In...</td>\n",
       "      <td>ICTAI (2)</td>\n",
       "      <td>Jianye Hao</td>\n",
       "      <td>https://doi.org/10.1109/ICTAI.2010.75</td>\n",
       "    </tr>\n",
       "    <tr>\n",
       "      <th>209</th>\n",
       "      <td>2009</td>\n",
       "      <td>Bus-Based and NoC Infrastructure Performance E...</td>\n",
       "      <td>ITNG</td>\n",
       "      <td>Ling Wang</td>\n",
       "      <td>https://doi.org/10.1109/ITNG.2009.186</td>\n",
       "    </tr>\n",
       "    <tr>\n",
       "      <th>210</th>\n",
       "      <td>2007</td>\n",
       "      <td>Theoretical Investigation on Post-Processed LD...</td>\n",
       "      <td>CIS</td>\n",
       "      <td>Jianye Hao</td>\n",
       "      <td>https://doi.org/10.1109/CIS.2007.106</td>\n",
       "    </tr>\n",
       "  </tbody>\n",
       "</table>\n",
       "<p>211 rows × 5 columns</p>\n",
       "</div>"
      ],
      "text/plain": [
       "       年份                                                论文名  \\\n",
       "0    2023  Accelerating deep reinforcement learning via k...   \n",
       "1    2023  A benchmark for automatic medical consultation...   \n",
       "2    2023  A Unified Framework for Layout Pattern Analysi...   \n",
       "3    2023  Contrastive-ACE: Domain Generalization Through...   \n",
       "4    2023  Structure Aware Incremental Learning with Pers...   \n",
       "..    ...                                                ...   \n",
       "206  2012  Maintaining cooperation in homogeneous multi-a...   \n",
       "207  2011  Learning to Achieve Social Rationality Using T...   \n",
       "208  2010  Strategy and Fairness in Repeated Two-agent In...   \n",
       "209  2009  Bus-Based and NoC Infrastructure Performance E...   \n",
       "210  2007  Theoretical Investigation on Post-Processed LD...   \n",
       "\n",
       "                                                  会议简称          全部作者  \\\n",
       "0                      Auton. Agents Multi Agent Syst.  Yuanqiang Yu   \n",
       "1                                           Bioinform.      Wei Chen   \n",
       "2    IEEE Trans. Comput. Aided Des. Integr. Circuit...      Ran Chen   \n",
       "3                           IEEE Trans. Image Process.    Yunqi Wang   \n",
       "4                                                 AAAI  Yuening Wang   \n",
       "..                                                 ...           ...   \n",
       "206                                                SMC    Jianye Hao   \n",
       "207                                              ICTAI    Jianye Hao   \n",
       "208                                          ICTAI (2)    Jianye Hao   \n",
       "209                                               ITNG     Ling Wang   \n",
       "210                                                CIS    Jianye Hao   \n",
       "\n",
       "                                                  发表链接  \n",
       "0           https://doi.org/10.1007/s10458-023-09600-1  \n",
       "1       https://doi.org/10.1093/bioinformatics/btac817  \n",
       "2            https://doi.org/10.1109/TCAD.2022.3192363  \n",
       "3             https://doi.org/10.1109/TIP.2022.3227457  \n",
       "4    https://ojs.aaai.org/index.php/AAAI/article/vi...  \n",
       "..                                                 ...  \n",
       "206         https://doi.org/10.1109/ICSMC.2012.6377718  \n",
       "207              https://doi.org/10.1109/ICTAI.2011.31  \n",
       "208              https://doi.org/10.1109/ICTAI.2010.75  \n",
       "209              https://doi.org/10.1109/ITNG.2009.186  \n",
       "210               https://doi.org/10.1109/CIS.2007.106  \n",
       "\n",
       "[211 rows x 5 columns]"
      ]
     },
     "execution_count": 105,
     "metadata": {},
     "output_type": "execute_result"
    }
   ],
   "source": [
    "data_df"
   ]
  },
  {
   "cell_type": "code",
   "execution_count": 106,
   "id": "104f7320",
   "metadata": {},
   "outputs": [],
   "source": [
    "data_df.to_excel(excel_writer='tab1.xlsx', sheet_name='sheet_1')"
   ]
  },
  {
   "cell_type": "code",
   "execution_count": null,
   "id": "4f2d66ba",
   "metadata": {},
   "outputs": [],
   "source": []
  }
 ],
 "metadata": {
  "kernelspec": {
   "display_name": "Python 3.9.13 ('base')",
   "language": "python",
   "name": "python3"
  },
  "language_info": {
   "codemirror_mode": {
    "name": "ipython",
    "version": 3
   },
   "file_extension": ".py",
   "mimetype": "text/x-python",
   "name": "python",
   "nbconvert_exporter": "python",
   "pygments_lexer": "ipython3",
   "version": "3.9.13"
  },
  "vscode": {
   "interpreter": {
    "hash": "5179d32cf6ec497baf3f8a3ef987cc77c5d2dc691fdde20a56316522f61a7323"
   }
  }
 },
 "nbformat": 4,
 "nbformat_minor": 5
}
