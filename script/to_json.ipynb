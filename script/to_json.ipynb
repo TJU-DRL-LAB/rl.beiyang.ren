{
 "cells": [
  {
   "cell_type": "code",
   "execution_count": 1,
   "id": "64e3475b",
   "metadata": {},
   "outputs": [],
   "source": [
    "import pandas as pd"
   ]
  },
  {
   "cell_type": "code",
   "execution_count": 2,
   "id": "c9f02a94",
   "metadata": {},
   "outputs": [],
   "source": [
    "file_path = r'./data.xlsx'"
   ]
  },
  {
   "cell_type": "code",
   "execution_count": 3,
   "id": "d10fd3ab",
   "metadata": {},
   "outputs": [
    {
     "name": "stderr",
     "output_type": "stream",
     "text": [
      "D:\\Tools\\Anaconda3\\envs\\pytorch38\\lib\\site-packages\\openpyxl\\styles\\stylesheet.py:226: UserWarning: Workbook contains no default style, apply openpyxl's default\n",
      "  warn(\"Workbook contains no default style, apply openpyxl's default\")\n"
     ]
    }
   ],
   "source": [
    "df = pd.read_excel(file_path)"
   ]
  },
  {
   "cell_type": "code",
   "execution_count": 4,
   "id": "0499956b",
   "metadata": {},
   "outputs": [
    {
     "data": {
      "text/html": [
       "<div>\n",
       "<style scoped>\n",
       "    .dataframe tbody tr th:only-of-type {\n",
       "        vertical-align: middle;\n",
       "    }\n",
       "\n",
       "    .dataframe tbody tr th {\n",
       "        vertical-align: top;\n",
       "    }\n",
       "\n",
       "    .dataframe thead th {\n",
       "        text-align: right;\n",
       "    }\n",
       "</style>\n",
       "<table border=\"1\" class=\"dataframe\">\n",
       "  <thead>\n",
       "    <tr style=\"text-align: right;\">\n",
       "      <th></th>\n",
       "      <th>年份</th>\n",
       "      <th>论文名</th>\n",
       "      <th>会议全称（一定要是官网上的全称，精确到多少届）</th>\n",
       "      <th>会议简称</th>\n",
       "      <th>全部作者</th>\n",
       "      <th>PDF链接</th>\n",
       "      <th>Website链接（Site）</th>\n",
       "      <th>Code链接（Code）</th>\n",
       "      <th>Blog/Zhihu链接（Blog）</th>\n",
       "      <th>CoRR链接（如abs/2103.02287(2021）</th>\n",
       "      <th>发表链接(PDF)</th>\n",
       "    </tr>\n",
       "  </thead>\n",
       "  <tbody>\n",
       "    <tr>\n",
       "      <th>0</th>\n",
       "      <td>2023</td>\n",
       "      <td>RACE: Improve Multi-Agent Reinforcement Learni...</td>\n",
       "      <td>The 40th International Conference on Machine L...</td>\n",
       "      <td>ICML</td>\n",
       "      <td>Pengyi Li, Jianye Hao, Hongyao Tang, Yan Zheng...</td>\n",
       "      <td>https://proceedings.mlr.press/v202/li23i/li23i...</td>\n",
       "      <td>NaN</td>\n",
       "      <td>https://github.com/yeshenpy/RACE.</td>\n",
       "      <td>NaN</td>\n",
       "      <td>NaN</td>\n",
       "      <td>NaN</td>\n",
       "    </tr>\n",
       "    <tr>\n",
       "      <th>1</th>\n",
       "      <td>2023</td>\n",
       "      <td>Accelerating deep reinforcement learning via k...</td>\n",
       "      <td>The 22nd International Conference on Autonomou...</td>\n",
       "      <td>JAAMAS</td>\n",
       "      <td>Yuanqiang Yu, Peng Zhang, Kai Zhao, Yan Zheng,...</td>\n",
       "      <td>NaN</td>\n",
       "      <td>NaN</td>\n",
       "      <td>NaN</td>\n",
       "      <td>NaN</td>\n",
       "      <td>NaN</td>\n",
       "      <td>https://doi.org/10.1007/s10458-023-09600-1</td>\n",
       "    </tr>\n",
       "  </tbody>\n",
       "</table>\n",
       "</div>"
      ],
      "text/plain": [
       "     年份                                                论文名  \\\n",
       "0  2023  RACE: Improve Multi-Agent Reinforcement Learni...   \n",
       "1  2023  Accelerating deep reinforcement learning via k...   \n",
       "\n",
       "                             会议全称（一定要是官网上的全称，精确到多少届）    会议简称  \\\n",
       "0  The 40th International Conference on Machine L...    ICML   \n",
       "1  The 22nd International Conference on Autonomou...  JAAMAS   \n",
       "\n",
       "                                                全部作者  \\\n",
       "0  Pengyi Li, Jianye Hao, Hongyao Tang, Yan Zheng...   \n",
       "1  Yuanqiang Yu, Peng Zhang, Kai Zhao, Yan Zheng,...   \n",
       "\n",
       "                                               PDF链接  Website链接（Site）  \\\n",
       "0  https://proceedings.mlr.press/v202/li23i/li23i...              NaN   \n",
       "1                                                NaN              NaN   \n",
       "\n",
       "                        Code链接（Code）  Blog/Zhihu链接（Blog）  \\\n",
       "0  https://github.com/yeshenpy/RACE.                 NaN   \n",
       "1                                NaN                 NaN   \n",
       "\n",
       "  CoRR链接（如abs/2103.02287(2021）                                   发表链接(PDF)  \n",
       "0                          NaN                                         NaN  \n",
       "1                          NaN  https://doi.org/10.1007/s10458-023-09600-1  "
      ]
     },
     "execution_count": 4,
     "metadata": {},
     "output_type": "execute_result"
    }
   ],
   "source": [
    "df.head(2)"
   ]
  },
  {
   "cell_type": "code",
   "execution_count": 5,
   "id": "332633e9",
   "metadata": {},
   "outputs": [],
   "source": [
    "result = []\n",
    "for index, row in df.iterrows():\n",
    "    name = row[\"论文名\"]\n",
    "    fr = row[\"会议全称（一定要是官网上的全称，精确到多少届）\"]  + ' (' + row[\"会议简称\"] + '): ' + str(row[\"年份\"])\n",
    "    date = str(row[\"年份\"])\n",
    "    authors = row[\"全部作者\"]\n",
    "    links = []\n",
    "    pdf_url =  row[\"PDF链接\"] if not pd.isna(row[\"PDF链接\"]) else row[\"发表链接(PDF)\"]\n",
    "    code_url = row[\"Code链接（Code）\"]\n",
    "    blog_url = row[\"Blog/Zhihu链接（Blog）\"]\n",
    "    site_url = row[\"Website链接（Site）\"]\n",
    "    if not pd.isna(pdf_url):\n",
    "        links.append({\n",
    "            \"name\": \"PDF\",\n",
    "            \"url\": pdf_url\n",
    "          })\n",
    "    if not pd.isna(code_url):\n",
    "        links.append({\n",
    "            \"name\": \"Code\",\n",
    "            \"url\": code_url\n",
    "          })\n",
    "    if not pd.isna(blog_url):\n",
    "        links.append({\n",
    "            \"name\": \"Blog\",\n",
    "            \"url\": blog_url\n",
    "          })\n",
    "    if not pd.isna(site_url):\n",
    "        links.append({\n",
    "            \"name\": \"Site\",\n",
    "            \"url\": site_url\n",
    "          })\n",
    "    \n",
    "    item = {\n",
    "        \"name\": name,\n",
    "        \"from\": fr,\n",
    "        \"date\": date,\n",
    "        \"authors\": authors,\n",
    "        \"links\": links\n",
    "    }\n",
    "    result.append(item)\n"
   ]
  },
  {
   "cell_type": "code",
   "execution_count": 7,
   "id": "ea450ba4",
   "metadata": {},
   "outputs": [
    {
     "data": {
      "text/plain": [
       "{'name': 'Theoretical Investigation on Post-Processed LDA for Face and Palmprint Recognition.',\n",
       " 'from': 'The 2007 International Conference on Computational Intelligence and Security (CIS): 2007',\n",
       " 'date': '2007',\n",
       " 'authors': 'Jianye Hao, Wangmeng Zuo, Kuanquan Wang',\n",
       " 'links': [{'name': 'PDF', 'url': 'https://doi.org/10.1109/CIS.2007.106'}]}"
      ]
     },
     "execution_count": 7,
     "metadata": {},
     "output_type": "execute_result"
    }
   ],
   "source": [
    "result[-1]"
   ]
  },
  {
   "cell_type": "code",
   "execution_count": 8,
   "id": "1583e010",
   "metadata": {},
   "outputs": [],
   "source": [
    "import json"
   ]
  },
  {
   "cell_type": "code",
   "execution_count": 11,
   "id": "7da7f904",
   "metadata": {},
   "outputs": [],
   "source": [
    "json_file_path = 'data2.json'\n",
    "json_file = open(json_file_path, mode='w')\n",
    "\n",
    "json.dump(result, json_file)"
   ]
  },
  {
   "cell_type": "code",
   "execution_count": null,
   "id": "29d8c3ef",
   "metadata": {},
   "outputs": [],
   "source": []
  }
 ],
 "metadata": {
  "kernelspec": {
   "display_name": "pytorch38",
   "language": "python",
   "name": "pytorch38"
  },
  "language_info": {
   "codemirror_mode": {
    "name": "ipython",
    "version": 3
   },
   "file_extension": ".py",
   "mimetype": "text/x-python",
   "name": "python",
   "nbconvert_exporter": "python",
   "pygments_lexer": "ipython3",
   "version": "3.8.13"
  }
 },
 "nbformat": 4,
 "nbformat_minor": 5
}
